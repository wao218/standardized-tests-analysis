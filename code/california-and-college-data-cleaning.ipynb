{
 "cells": [
  {
   "cell_type": "markdown",
   "metadata": {},
   "source": [
    "<img src=\"http://imgur.com/1ZcRyrc.png\" style=\"float: left; margin: 20px; height: 55px\">\n",
    "\n",
    "# Project 1: Standardized Test Analysis"
   ]
  },
  {
   "cell_type": "markdown",
   "metadata": {},
   "source": [
    "--- \n",
    "# Part 1\n",
    "\n",
    "Part 1 requires knowledge of basic Python.\n",
    "\n",
    "---"
   ]
  },
  {
   "cell_type": "markdown",
   "metadata": {},
   "source": [
    "## Problem Statement"
   ]
  },
  {
   "cell_type": "markdown",
   "metadata": {},
   "source": [
    "The Steppingstone Foundation recently established their program in the state of California in the 10 largest public school districts. Over the past few years they've noticed a problem with some students ability to gain acceptance into private schools. They want to know within each district, which public high schools would be potential candidates to explore as recommendations for students and their families, if they wanted to send students to the top 50 ranked US colleges or universities."
   ]
  },
  {
   "cell_type": "markdown",
   "metadata": {},
   "source": [
    "### Contents:\n",
    "- [Background](#Background)\n",
    "- [Data Import & Cleaning](#Data-Import-and-Cleaning)"
   ]
  },
  {
   "cell_type": "markdown",
   "metadata": {},
   "source": [
    "## Background"
   ]
  },
  {
   "cell_type": "markdown",
   "metadata": {},
   "source": [
    "The SAT and ACT are standardized tests that many colleges and universities in the United States require for their admissions process. This score is used along with other materials such as grade point average (GPA) and essay responses to determine whether or not a potential student will be accepted to the university.\n",
    "\n",
    "The SAT has two sections of the test: Evidence-Based Reading and Writing and Math ([*source*](https://www.princetonreview.com/college/sat-sections)). The ACT has 4 sections: English, Mathematics, Reading, and Science, with an additional optional writing section ([*source*](https://www.act.org/content/act/en/products-and-services/the-act/scores/understanding-your-scores.html)). They have different score ranges, which you can read more about on their websites or additional outside sources (a quick Google search will help you understand the scores for each test):\n",
    "* [SAT](https://collegereadiness.collegeboard.org/sat)\n",
    "* [ACT](https://www.act.org/content/act/en.html)\n",
    "\n",
    "Standardized tests have long been a controversial topic for students, administrators, and legislators. Since the 1940's, an increasing number of colleges have been using scores from sudents' performances on tests like the SAT and the ACT as a measure for college readiness and aptitude ([*source*](https://www.minotdailynews.com/news/local-news/2017/04/a-brief-history-of-the-sat-and-act/)). Supporters of these tests argue that these scores can be used as an objective measure to determine college admittance. Opponents of these tests claim that these tests are not accurate measures of students potential or ability and serve as an inequitable barrier to entry. Lately, more and more schools are opting to drop the SAT/ACT requirement for their Fall 2021 applications ([*read more about this here*](https://www.cnn.com/2020/04/14/us/coronavirus-colleges-sat-act-test-trnd/index.html))."
   ]
  },
  {
   "cell_type": "markdown",
   "metadata": {},
   "source": [
    "The Steppingstone Foundation is a nonprofit Organization headquartered in Boston, Massachusetts. \n",
    "\n",
    "*\"Steppingstone envisions a more just and equitable world where all students can actualize the life-transforming benefits of a college degree. Steppingstone prepares students from historically marginalized communities to access, navigate, and graduate from college. In Boston, we provide academic, social-emotional, and college readiness programming from as early as fifth grade and continuing through college graduation. Nationally, we connect the people, practices, and innovations essential for eliminating barriers to college and career success.\"* ([source](https://www.tsf.org/about-us/mission/))"
   ]
  },
  {
   "cell_type": "markdown",
   "metadata": {
    "jp-MarkdownHeadingCollapsed": true,
    "tags": []
   },
   "source": [
    "### Data for Analysis\n",
    "\n",
    "* [`sat_2019_ca.csv`](./data/sat_2019_ca.csv): 2019 SAT Scores in California by School\n",
    "* [`sat_act_by_college.csv`](./data/sat_act_by_college.csv): Ranges of Accepted ACT & SAT Student Scores by Colleges"
   ]
  },
  {
   "cell_type": "markdown",
   "metadata": {},
   "source": [
    "### Outside Research"
   ]
  },
  {
   "cell_type": "markdown",
   "metadata": {},
   "source": [
    "Top 50 ranked US Colleges / Universities: ([*source*](https://www.usnews.com/best-colleges/rankings/national-universities))\n",
    "\n",
    "* Princeton University\n",
    "* Harvard College\n",
    "* Columbia University \n",
    "* Massachusetts Institute of Technology \n",
    "* Yale University \n",
    "* Stanford University\n",
    "* University of Chicago \n",
    "* University of Pennsylvania\n",
    "* California Institute of Technology\n",
    "* Johns Hopkins University \n",
    "* Northwestern University \n",
    "* Duke University \n",
    "* Dartmouth College\n",
    "* Brown University \n",
    "* Vanderbilt University\n",
    "* Rice University \n",
    "* Washington University in St. Louis\n",
    "* Cornell University \n",
    "* University of Notre Dame\n",
    "* University of California—Los Angeles \n",
    "* Emory University\n",
    "* University of California—Berkeley \n",
    "* Georgetown University',\n",
    "* University of Michigan—Ann Arbor \n",
    "* University of Southern California\n",
    "* University of Virginia \n",
    "* University of North Carolina—Chapel Hill \n",
    "* Wake Forest University'\n",
    "* New York University\n",
    "* Tufts University\n",
    "* University of California—Santa Barbara\n",
    "* University of Florida\n",
    "* University of Rochester\n",
    "* Boston College\n",
    "* Georgia Institute of Technology\n",
    "* University of California—Irvine\n",
    "* University of California—San Diego\n",
    "* University of California—Davis\n",
    "* College of William and Mary\n",
    "* Tulane University\n",
    "* Boston University\n",
    "* Brandeis University\n",
    "* Case Western Reserve University\n",
    "* University of Texas—Austin\n",
    "* University of Wisconsin—Madison\n",
    "* University of Georgia\n",
    "* University of Illinois—Urbana-Champaign\n",
    "* Lehigh University\n",
    "* Northeastern University\n",
    "* Pepperdine University\n",
    "* University of Miami\n",
    "\n",
    "\n",
    "SAT Benchmarks for 11th grade: ([*source*](https://collegereadiness.collegeboard.org/about/scores/benchmarks))\n",
    "* Evidence-Based Reading & Writing: 460\n",
    "    * *\"Students with an SAT Evidence-Based Reading and Writing (ERW) section score that meets or exceeds the benchmark have a 75 percent chance of earning at least a C in first-semester, credit-bearing college courses in history, literature, social sciences, or writing classes.\"*\n",
    "* Math: 510\n",
    "    * *\"Students with an SAT Math section score that meets or exceeds the benchmark have a 75 percent chance of earning at least a C in first-semester, credit-bearing college courses in algebra, statistics, pre-calculus, or calculus.\"*"
   ]
  },
  {
   "cell_type": "markdown",
   "metadata": {},
   "source": [
    "### Coding Challenges\n",
    "\n",
    "1. Manually calculate mean:\n",
    "\n",
    "    Write a function that takes in values and returns the mean of the values. Create a list of numbers that you test on your function to check to make sure your function works!\n",
    "    \n",
    "    *Note*: Do not use any mean methods built-in to any Python libraries to do this! This should be done without importing any additional libraries."
   ]
  },
  {
   "cell_type": "code",
   "execution_count": 45,
   "metadata": {},
   "outputs": [
    {
     "data": {
      "text/plain": [
       "3.0"
      ]
     },
     "execution_count": 45,
     "metadata": {},
     "output_type": "execute_result"
    }
   ],
   "source": [
    "'''\n",
    "    Calculate the mean of values in a list\n",
    "'''\n",
    "\n",
    "def calc_mean(values):\n",
    "    return sum(values) / len(values)\n",
    "\n",
    "test_values = [1, 2, 3, 4, 5]\n",
    "\n",
    "calc_mean(test_values)"
   ]
  },
  {
   "cell_type": "markdown",
   "metadata": {},
   "source": [
    "2. Manually calculate standard deviation:\n",
    "\n",
    "    The formula for standard deviation is below:\n",
    "\n",
    "    $$\\sigma = \\sqrt{\\frac{1}{n}\\sum_{i=1}^n(x_i - \\mu)^2}$$\n",
    "\n",
    "    Where $x_i$ represents each value in the dataset, $\\mu$ represents the mean of all values in the dataset and $n$ represents the number of values in the dataset.\n",
    "\n",
    "    Write a function that takes in values and returns the standard deviation of the values using the formula above. Hint: use the function you wrote above to calculate the mean! Use the list of numbers you created above to test on your function.\n",
    "    \n",
    "    *Note*: Do not use any standard deviation methods built-in to any Python libraries to do this! This should be done without importing any additional libraries."
   ]
  },
  {
   "cell_type": "code",
   "execution_count": 46,
   "metadata": {},
   "outputs": [
    {
     "data": {
      "text/plain": [
       "1.4142135623730951"
      ]
     },
     "execution_count": 46,
     "metadata": {},
     "output_type": "execute_result"
    }
   ],
   "source": [
    "# Code:\n",
    "'''\n",
    "    Calculate the standard deviation of values in a list\n",
    "'''\n",
    "def calc_std_deviation(values):\n",
    "    summed_values = 0\n",
    "    m = calc_mean(values)\n",
    "    n = len(values)\n",
    "    for value in values:\n",
    "        summed_values += (value - m)**2\n",
    "    return (summed_values / n)**0.5\n",
    "\n",
    "test_values = [1, 2, 3, 4, 5]\n",
    "calc_std_deviation(test_values)"
   ]
  },
  {
   "cell_type": "markdown",
   "metadata": {},
   "source": [
    "3. Data cleaning function:\n",
    "    \n",
    "    Write a function that takes in a string that is a number and a percent symbol (ex. '50%', '30.5%', etc.) and converts this to a float that is the decimal approximation of the percent. For example, inputting '50%' in your function should return 0.5, '30.5%' should return 0.305, etc. Make sure to test your function to make sure it works!\n",
    "\n",
    "You will use these functions later on in the project!"
   ]
  },
  {
   "cell_type": "code",
   "execution_count": 47,
   "metadata": {},
   "outputs": [
    {
     "data": {
      "text/plain": [
       "0.305"
      ]
     },
     "execution_count": 47,
     "metadata": {},
     "output_type": "execute_result"
    }
   ],
   "source": [
    "# Code:\n",
    "'''\n",
    "    Convert percentage strings to float percentages.\n",
    "'''\n",
    "def to_decimal_percent(percent):\n",
    "    split = percent.split('%')\n",
    "    percentage = float(split[0])\n",
    "    return percentage / 100\n",
    "\n",
    "to_decimal_percent('30.5%')"
   ]
  },
  {
   "cell_type": "markdown",
   "metadata": {},
   "source": [
    "--- \n",
    "# Part 2\n",
    "\n",
    "Part 2 requires knowledge of Pandas, EDA, data cleaning, and data visualization.\n",
    "\n",
    "---"
   ]
  },
  {
   "cell_type": "markdown",
   "metadata": {},
   "source": [
    "*All libraries used should be added here*"
   ]
  },
  {
   "cell_type": "code",
   "execution_count": 48,
   "metadata": {},
   "outputs": [],
   "source": [
    "# Imports:\n",
    "import pandas as pd\n",
    "import numpy as np\n",
    "import matplotlib.pyplot as plt\n",
    "import seaborn as sns\n",
    "\n",
    "%matplotlib inline"
   ]
  },
  {
   "cell_type": "markdown",
   "metadata": {},
   "source": [
    "## Data Import and Cleaning"
   ]
  },
  {
   "cell_type": "markdown",
   "metadata": {
    "tags": []
   },
   "source": [
    "### Data Import"
   ]
  },
  {
   "cell_type": "code",
   "execution_count": 49,
   "metadata": {},
   "outputs": [],
   "source": [
    "# Data used for analysis\n",
    "sat_ca = pd.read_csv('../data/sat_2019_ca.csv')\n",
    "sat_by_college = pd.read_csv('../data/sat_act_by_college.csv')"
   ]
  },
  {
   "cell_type": "markdown",
   "metadata": {
    "tags": []
   },
   "source": [
    "#### 2019 California SAT Data Cleaning "
   ]
  },
  {
   "cell_type": "code",
   "execution_count": 50,
   "metadata": {},
   "outputs": [
    {
     "data": {
      "text/html": [
       "<div>\n",
       "<style scoped>\n",
       "    .dataframe tbody tr th:only-of-type {\n",
       "        vertical-align: middle;\n",
       "    }\n",
       "\n",
       "    .dataframe tbody tr th {\n",
       "        vertical-align: top;\n",
       "    }\n",
       "\n",
       "    .dataframe thead th {\n",
       "        text-align: right;\n",
       "    }\n",
       "</style>\n",
       "<table border=\"1\" class=\"dataframe\">\n",
       "  <thead>\n",
       "    <tr style=\"text-align: right;\">\n",
       "      <th></th>\n",
       "      <th>CDS</th>\n",
       "      <th>CCode</th>\n",
       "      <th>CDCode</th>\n",
       "      <th>SCode</th>\n",
       "      <th>RType</th>\n",
       "      <th>SName</th>\n",
       "      <th>DName</th>\n",
       "      <th>CName</th>\n",
       "      <th>Enroll12</th>\n",
       "      <th>NumTSTTakr12</th>\n",
       "      <th>...</th>\n",
       "      <th>NumERWBenchmark11</th>\n",
       "      <th>PctERWBenchmark11</th>\n",
       "      <th>NumMathBenchmark11</th>\n",
       "      <th>PctMathBenchmark11</th>\n",
       "      <th>TotNumBothBenchmark12</th>\n",
       "      <th>PctBothBenchmark12</th>\n",
       "      <th>TotNumBothBenchmark11</th>\n",
       "      <th>PctBothBenchmark11</th>\n",
       "      <th>Year</th>\n",
       "      <th>Unnamed: 25</th>\n",
       "    </tr>\n",
       "  </thead>\n",
       "  <tbody>\n",
       "    <tr>\n",
       "      <th>0</th>\n",
       "      <td>6.615981e+12</td>\n",
       "      <td>6.0</td>\n",
       "      <td>661598.0</td>\n",
       "      <td>630046.0</td>\n",
       "      <td>S</td>\n",
       "      <td>Colusa Alternative Home</td>\n",
       "      <td>Colusa Unified</td>\n",
       "      <td>Colusa</td>\n",
       "      <td>18.0</td>\n",
       "      <td>0.0</td>\n",
       "      <td>...</td>\n",
       "      <td>NaN</td>\n",
       "      <td>NaN</td>\n",
       "      <td>NaN</td>\n",
       "      <td>NaN</td>\n",
       "      <td>NaN</td>\n",
       "      <td>NaN</td>\n",
       "      <td>NaN</td>\n",
       "      <td>NaN</td>\n",
       "      <td>2018-19</td>\n",
       "      <td>NaN</td>\n",
       "    </tr>\n",
       "    <tr>\n",
       "      <th>1</th>\n",
       "      <td>6.616061e+12</td>\n",
       "      <td>6.0</td>\n",
       "      <td>661606.0</td>\n",
       "      <td>634758.0</td>\n",
       "      <td>S</td>\n",
       "      <td>Maxwell Sr High</td>\n",
       "      <td>Maxwell Unified</td>\n",
       "      <td>Colusa</td>\n",
       "      <td>29.0</td>\n",
       "      <td>10.0</td>\n",
       "      <td>...</td>\n",
       "      <td>*</td>\n",
       "      <td>*</td>\n",
       "      <td>*</td>\n",
       "      <td>*</td>\n",
       "      <td>*</td>\n",
       "      <td>*</td>\n",
       "      <td>*</td>\n",
       "      <td>*</td>\n",
       "      <td>2018-19</td>\n",
       "      <td>NaN</td>\n",
       "    </tr>\n",
       "    <tr>\n",
       "      <th>2</th>\n",
       "      <td>1.964733e+13</td>\n",
       "      <td>19.0</td>\n",
       "      <td>1964733.0</td>\n",
       "      <td>1930924.0</td>\n",
       "      <td>S</td>\n",
       "      <td>Belmont Senior High</td>\n",
       "      <td>Los Angeles Unified</td>\n",
       "      <td>Los Angeles</td>\n",
       "      <td>206.0</td>\n",
       "      <td>102.0</td>\n",
       "      <td>...</td>\n",
       "      <td>42</td>\n",
       "      <td>24.14</td>\n",
       "      <td>12</td>\n",
       "      <td>6.90</td>\n",
       "      <td>14</td>\n",
       "      <td>13.73</td>\n",
       "      <td>11</td>\n",
       "      <td>6.32</td>\n",
       "      <td>2018-19</td>\n",
       "      <td>NaN</td>\n",
       "    </tr>\n",
       "    <tr>\n",
       "      <th>3</th>\n",
       "      <td>1.964733e+13</td>\n",
       "      <td>19.0</td>\n",
       "      <td>1964733.0</td>\n",
       "      <td>1931476.0</td>\n",
       "      <td>S</td>\n",
       "      <td>Canoga Park Senior High</td>\n",
       "      <td>Los Angeles Unified</td>\n",
       "      <td>Los Angeles</td>\n",
       "      <td>227.0</td>\n",
       "      <td>113.0</td>\n",
       "      <td>...</td>\n",
       "      <td>97</td>\n",
       "      <td>35.27</td>\n",
       "      <td>37</td>\n",
       "      <td>13.45</td>\n",
       "      <td>18</td>\n",
       "      <td>15.93</td>\n",
       "      <td>35</td>\n",
       "      <td>12.73</td>\n",
       "      <td>2018-19</td>\n",
       "      <td>NaN</td>\n",
       "    </tr>\n",
       "    <tr>\n",
       "      <th>4</th>\n",
       "      <td>1.964733e+13</td>\n",
       "      <td>19.0</td>\n",
       "      <td>1964733.0</td>\n",
       "      <td>1931856.0</td>\n",
       "      <td>S</td>\n",
       "      <td>Whitman Continuation</td>\n",
       "      <td>Los Angeles Unified</td>\n",
       "      <td>Los Angeles</td>\n",
       "      <td>18.0</td>\n",
       "      <td>14.0</td>\n",
       "      <td>...</td>\n",
       "      <td>*</td>\n",
       "      <td>*</td>\n",
       "      <td>*</td>\n",
       "      <td>*</td>\n",
       "      <td>*</td>\n",
       "      <td>*</td>\n",
       "      <td>*</td>\n",
       "      <td>*</td>\n",
       "      <td>2018-19</td>\n",
       "      <td>NaN</td>\n",
       "    </tr>\n",
       "  </tbody>\n",
       "</table>\n",
       "<p>5 rows × 26 columns</p>\n",
       "</div>"
      ],
      "text/plain": [
       "            CDS  CCode     CDCode      SCode RType                    SName  \\\n",
       "0  6.615981e+12    6.0   661598.0   630046.0     S  Colusa Alternative Home   \n",
       "1  6.616061e+12    6.0   661606.0   634758.0     S          Maxwell Sr High   \n",
       "2  1.964733e+13   19.0  1964733.0  1930924.0     S      Belmont Senior High   \n",
       "3  1.964733e+13   19.0  1964733.0  1931476.0     S  Canoga Park Senior High   \n",
       "4  1.964733e+13   19.0  1964733.0  1931856.0     S     Whitman Continuation   \n",
       "\n",
       "                 DName        CName  Enroll12  NumTSTTakr12  ...  \\\n",
       "0       Colusa Unified       Colusa      18.0           0.0  ...   \n",
       "1      Maxwell Unified       Colusa      29.0          10.0  ...   \n",
       "2  Los Angeles Unified  Los Angeles     206.0         102.0  ...   \n",
       "3  Los Angeles Unified  Los Angeles     227.0         113.0  ...   \n",
       "4  Los Angeles Unified  Los Angeles      18.0          14.0  ...   \n",
       "\n",
       "  NumERWBenchmark11 PctERWBenchmark11 NumMathBenchmark11 PctMathBenchmark11  \\\n",
       "0               NaN               NaN                NaN                NaN   \n",
       "1                 *                 *                  *                  *   \n",
       "2                42             24.14                 12               6.90   \n",
       "3                97             35.27                 37              13.45   \n",
       "4                 *                 *                  *                  *   \n",
       "\n",
       "   TotNumBothBenchmark12  PctBothBenchmark12 TotNumBothBenchmark11  \\\n",
       "0                    NaN                 NaN                   NaN   \n",
       "1                      *                   *                     *   \n",
       "2                     14               13.73                    11   \n",
       "3                     18               15.93                    35   \n",
       "4                      *                   *                     *   \n",
       "\n",
       "  PctBothBenchmark11     Year Unnamed: 25  \n",
       "0                NaN  2018-19         NaN  \n",
       "1                  *  2018-19         NaN  \n",
       "2               6.32  2018-19         NaN  \n",
       "3              12.73  2018-19         NaN  \n",
       "4                  *  2018-19         NaN  \n",
       "\n",
       "[5 rows x 26 columns]"
      ]
     },
     "execution_count": 50,
     "metadata": {},
     "output_type": "execute_result"
    }
   ],
   "source": [
    "# First 5 rows of California SAT data\n",
    "sat_ca.head()"
   ]
  },
  {
   "cell_type": "markdown",
   "metadata": {},
   "source": [
    "*First 5 rows of 2019 California SAT Scores data*"
   ]
  },
  {
   "cell_type": "code",
   "execution_count": 51,
   "metadata": {},
   "outputs": [
    {
     "name": "stdout",
     "output_type": "stream",
     "text": [
      "<class 'pandas.core.frame.DataFrame'>\n",
      "RangeIndex: 2580 entries, 0 to 2579\n",
      "Data columns (total 26 columns):\n",
      " #   Column                 Non-Null Count  Dtype  \n",
      "---  ------                 --------------  -----  \n",
      " 0   CDS                    2579 non-null   float64\n",
      " 1   CCode                  2579 non-null   float64\n",
      " 2   CDCode                 2579 non-null   float64\n",
      " 3   SCode                  2579 non-null   float64\n",
      " 4   RType                  2579 non-null   object \n",
      " 5   SName                  1982 non-null   object \n",
      " 6   DName                  2521 non-null   object \n",
      " 7   CName                  2579 non-null   object \n",
      " 8   Enroll12               2579 non-null   float64\n",
      " 9   NumTSTTakr12           2579 non-null   float64\n",
      " 10  NumERWBenchmark12      2304 non-null   object \n",
      " 11  PctERWBenchmark12      2304 non-null   object \n",
      " 12  NumMathBenchmark12     2304 non-null   object \n",
      " 13  PctMathBenchmark12     2304 non-null   object \n",
      " 14  Enroll11               2579 non-null   float64\n",
      " 15  NumTSTTakr11           2579 non-null   float64\n",
      " 16  NumERWBenchmark11      2269 non-null   object \n",
      " 17  PctERWBenchmark11      2269 non-null   object \n",
      " 18  NumMathBenchmark11     2269 non-null   object \n",
      " 19  PctMathBenchmark11     2269 non-null   object \n",
      " 20  TotNumBothBenchmark12  2304 non-null   object \n",
      " 21  PctBothBenchmark12     2304 non-null   object \n",
      " 22  TotNumBothBenchmark11  2269 non-null   object \n",
      " 23  PctBothBenchmark11     2269 non-null   object \n",
      " 24  Year                   2579 non-null   object \n",
      " 25  Unnamed: 25            0 non-null      float64\n",
      "dtypes: float64(9), object(17)\n",
      "memory usage: 524.2+ KB\n"
     ]
    }
   ],
   "source": [
    "# Check Data Types and Shape of California SAT data\n",
    "sat_ca.info()"
   ]
  },
  {
   "cell_type": "code",
   "execution_count": 52,
   "metadata": {},
   "outputs": [],
   "source": [
    "# Drop unwanted columns\n",
    "columns_to_drop = ['Unnamed: 25', 'Year', 'CDS', 'CCode', 'CDCode', 'SCode', 'RType', 'CName',\n",
    "                  'Enroll12', 'NumTSTTakr12', 'NumERWBenchmark12', 'PctERWBenchmark12', 'NumMathBenchmark12',\n",
    "                   'PctMathBenchmark12', 'TotNumBothBenchmark12', 'PctBothBenchmark12']\n",
    "sat_ca.drop(columns = columns_to_drop, inplace = True)"
   ]
  },
  {
   "cell_type": "code",
   "execution_count": 53,
   "metadata": {},
   "outputs": [
    {
     "data": {
      "text/html": [
       "<div>\n",
       "<style scoped>\n",
       "    .dataframe tbody tr th:only-of-type {\n",
       "        vertical-align: middle;\n",
       "    }\n",
       "\n",
       "    .dataframe tbody tr th {\n",
       "        vertical-align: top;\n",
       "    }\n",
       "\n",
       "    .dataframe thead th {\n",
       "        text-align: right;\n",
       "    }\n",
       "</style>\n",
       "<table border=\"1\" class=\"dataframe\">\n",
       "  <thead>\n",
       "    <tr style=\"text-align: right;\">\n",
       "      <th></th>\n",
       "      <th>SName</th>\n",
       "      <th>DName</th>\n",
       "      <th>Enroll11</th>\n",
       "      <th>NumTSTTakr11</th>\n",
       "      <th>NumERWBenchmark11</th>\n",
       "      <th>PctERWBenchmark11</th>\n",
       "      <th>NumMathBenchmark11</th>\n",
       "      <th>PctMathBenchmark11</th>\n",
       "      <th>TotNumBothBenchmark11</th>\n",
       "      <th>PctBothBenchmark11</th>\n",
       "    </tr>\n",
       "  </thead>\n",
       "  <tbody>\n",
       "    <tr>\n",
       "      <th>0</th>\n",
       "      <td>Colusa Alternative Home</td>\n",
       "      <td>Colusa Unified</td>\n",
       "      <td>18.0</td>\n",
       "      <td>0.0</td>\n",
       "      <td>NaN</td>\n",
       "      <td>NaN</td>\n",
       "      <td>NaN</td>\n",
       "      <td>NaN</td>\n",
       "      <td>NaN</td>\n",
       "      <td>NaN</td>\n",
       "    </tr>\n",
       "    <tr>\n",
       "      <th>1</th>\n",
       "      <td>Maxwell Sr High</td>\n",
       "      <td>Maxwell Unified</td>\n",
       "      <td>26.0</td>\n",
       "      <td>6.0</td>\n",
       "      <td>*</td>\n",
       "      <td>*</td>\n",
       "      <td>*</td>\n",
       "      <td>*</td>\n",
       "      <td>*</td>\n",
       "      <td>*</td>\n",
       "    </tr>\n",
       "    <tr>\n",
       "      <th>2</th>\n",
       "      <td>Belmont Senior High</td>\n",
       "      <td>Los Angeles Unified</td>\n",
       "      <td>219.0</td>\n",
       "      <td>174.0</td>\n",
       "      <td>42</td>\n",
       "      <td>24.14</td>\n",
       "      <td>12</td>\n",
       "      <td>6.90</td>\n",
       "      <td>11</td>\n",
       "      <td>6.32</td>\n",
       "    </tr>\n",
       "    <tr>\n",
       "      <th>3</th>\n",
       "      <td>Canoga Park Senior High</td>\n",
       "      <td>Los Angeles Unified</td>\n",
       "      <td>333.0</td>\n",
       "      <td>275.0</td>\n",
       "      <td>97</td>\n",
       "      <td>35.27</td>\n",
       "      <td>37</td>\n",
       "      <td>13.45</td>\n",
       "      <td>35</td>\n",
       "      <td>12.73</td>\n",
       "    </tr>\n",
       "    <tr>\n",
       "      <th>4</th>\n",
       "      <td>Whitman Continuation</td>\n",
       "      <td>Los Angeles Unified</td>\n",
       "      <td>17.0</td>\n",
       "      <td>5.0</td>\n",
       "      <td>*</td>\n",
       "      <td>*</td>\n",
       "      <td>*</td>\n",
       "      <td>*</td>\n",
       "      <td>*</td>\n",
       "      <td>*</td>\n",
       "    </tr>\n",
       "  </tbody>\n",
       "</table>\n",
       "</div>"
      ],
      "text/plain": [
       "                     SName                DName  Enroll11  NumTSTTakr11  \\\n",
       "0  Colusa Alternative Home       Colusa Unified      18.0           0.0   \n",
       "1          Maxwell Sr High      Maxwell Unified      26.0           6.0   \n",
       "2      Belmont Senior High  Los Angeles Unified     219.0         174.0   \n",
       "3  Canoga Park Senior High  Los Angeles Unified     333.0         275.0   \n",
       "4     Whitman Continuation  Los Angeles Unified      17.0           5.0   \n",
       "\n",
       "  NumERWBenchmark11 PctERWBenchmark11 NumMathBenchmark11 PctMathBenchmark11  \\\n",
       "0               NaN               NaN                NaN                NaN   \n",
       "1                 *                 *                  *                  *   \n",
       "2                42             24.14                 12               6.90   \n",
       "3                97             35.27                 37              13.45   \n",
       "4                 *                 *                  *                  *   \n",
       "\n",
       "  TotNumBothBenchmark11 PctBothBenchmark11  \n",
       "0                   NaN                NaN  \n",
       "1                     *                  *  \n",
       "2                    11               6.32  \n",
       "3                    35              12.73  \n",
       "4                     *                  *  "
      ]
     },
     "execution_count": 53,
     "metadata": {},
     "output_type": "execute_result"
    }
   ],
   "source": [
    "# Check that columns were dropped\n",
    "sat_ca.head()"
   ]
  },
  {
   "cell_type": "code",
   "execution_count": 54,
   "metadata": {},
   "outputs": [
    {
     "data": {
      "text/plain": [
       "(2580, 10)"
      ]
     },
     "execution_count": 54,
     "metadata": {},
     "output_type": "execute_result"
    }
   ],
   "source": [
    "# Check current shape of California Data\n",
    "sat_ca.shape"
   ]
  },
  {
   "cell_type": "code",
   "execution_count": 55,
   "metadata": {},
   "outputs": [
    {
     "data": {
      "text/html": [
       "<div>\n",
       "<style scoped>\n",
       "    .dataframe tbody tr th:only-of-type {\n",
       "        vertical-align: middle;\n",
       "    }\n",
       "\n",
       "    .dataframe tbody tr th {\n",
       "        vertical-align: top;\n",
       "    }\n",
       "\n",
       "    .dataframe thead th {\n",
       "        text-align: right;\n",
       "    }\n",
       "</style>\n",
       "<table border=\"1\" class=\"dataframe\">\n",
       "  <thead>\n",
       "    <tr style=\"text-align: right;\">\n",
       "      <th></th>\n",
       "      <th>SName</th>\n",
       "      <th>DName</th>\n",
       "      <th>Enroll11</th>\n",
       "      <th>NumTSTTakr11</th>\n",
       "      <th>NumERWBenchmark11</th>\n",
       "      <th>PctERWBenchmark11</th>\n",
       "      <th>NumMathBenchmark11</th>\n",
       "      <th>PctMathBenchmark11</th>\n",
       "      <th>TotNumBothBenchmark11</th>\n",
       "      <th>PctBothBenchmark11</th>\n",
       "    </tr>\n",
       "  </thead>\n",
       "  <tbody>\n",
       "    <tr>\n",
       "      <th>0</th>\n",
       "      <td>Colusa Alternative Home</td>\n",
       "      <td>Colusa Unified</td>\n",
       "      <td>18.0</td>\n",
       "      <td>0.0</td>\n",
       "      <td>NaN</td>\n",
       "      <td>NaN</td>\n",
       "      <td>NaN</td>\n",
       "      <td>NaN</td>\n",
       "      <td>NaN</td>\n",
       "      <td>NaN</td>\n",
       "    </tr>\n",
       "    <tr>\n",
       "      <th>1</th>\n",
       "      <td>Maxwell Sr High</td>\n",
       "      <td>Maxwell Unified</td>\n",
       "      <td>26.0</td>\n",
       "      <td>6.0</td>\n",
       "      <td>*</td>\n",
       "      <td>*</td>\n",
       "      <td>*</td>\n",
       "      <td>*</td>\n",
       "      <td>*</td>\n",
       "      <td>*</td>\n",
       "    </tr>\n",
       "    <tr>\n",
       "      <th>2</th>\n",
       "      <td>Belmont Senior High</td>\n",
       "      <td>Los Angeles Unified</td>\n",
       "      <td>219.0</td>\n",
       "      <td>174.0</td>\n",
       "      <td>42</td>\n",
       "      <td>24.14</td>\n",
       "      <td>12</td>\n",
       "      <td>6.90</td>\n",
       "      <td>11</td>\n",
       "      <td>6.32</td>\n",
       "    </tr>\n",
       "    <tr>\n",
       "      <th>3</th>\n",
       "      <td>Canoga Park Senior High</td>\n",
       "      <td>Los Angeles Unified</td>\n",
       "      <td>333.0</td>\n",
       "      <td>275.0</td>\n",
       "      <td>97</td>\n",
       "      <td>35.27</td>\n",
       "      <td>37</td>\n",
       "      <td>13.45</td>\n",
       "      <td>35</td>\n",
       "      <td>12.73</td>\n",
       "    </tr>\n",
       "    <tr>\n",
       "      <th>4</th>\n",
       "      <td>Whitman Continuation</td>\n",
       "      <td>Los Angeles Unified</td>\n",
       "      <td>17.0</td>\n",
       "      <td>5.0</td>\n",
       "      <td>*</td>\n",
       "      <td>*</td>\n",
       "      <td>*</td>\n",
       "      <td>*</td>\n",
       "      <td>*</td>\n",
       "      <td>*</td>\n",
       "    </tr>\n",
       "  </tbody>\n",
       "</table>\n",
       "</div>"
      ],
      "text/plain": [
       "                     SName                DName  Enroll11  NumTSTTakr11  \\\n",
       "0  Colusa Alternative Home       Colusa Unified      18.0           0.0   \n",
       "1          Maxwell Sr High      Maxwell Unified      26.0           6.0   \n",
       "2      Belmont Senior High  Los Angeles Unified     219.0         174.0   \n",
       "3  Canoga Park Senior High  Los Angeles Unified     333.0         275.0   \n",
       "4     Whitman Continuation  Los Angeles Unified      17.0           5.0   \n",
       "\n",
       "  NumERWBenchmark11 PctERWBenchmark11 NumMathBenchmark11 PctMathBenchmark11  \\\n",
       "0               NaN               NaN                NaN                NaN   \n",
       "1                 *                 *                  *                  *   \n",
       "2                42             24.14                 12               6.90   \n",
       "3                97             35.27                 37              13.45   \n",
       "4                 *                 *                  *                  *   \n",
       "\n",
       "  TotNumBothBenchmark11 PctBothBenchmark11  \n",
       "0                   NaN                NaN  \n",
       "1                     *                  *  \n",
       "2                    11               6.32  \n",
       "3                    35              12.73  \n",
       "4                     *                  *  "
      ]
     },
     "execution_count": 55,
     "metadata": {},
     "output_type": "execute_result"
    }
   ],
   "source": [
    "sat_ca.head()"
   ]
  },
  {
   "cell_type": "code",
   "execution_count": 56,
   "metadata": {},
   "outputs": [
    {
     "data": {
      "text/html": [
       "<div>\n",
       "<style scoped>\n",
       "    .dataframe tbody tr th:only-of-type {\n",
       "        vertical-align: middle;\n",
       "    }\n",
       "\n",
       "    .dataframe tbody tr th {\n",
       "        vertical-align: top;\n",
       "    }\n",
       "\n",
       "    .dataframe thead th {\n",
       "        text-align: right;\n",
       "    }\n",
       "</style>\n",
       "<table border=\"1\" class=\"dataframe\">\n",
       "  <thead>\n",
       "    <tr style=\"text-align: right;\">\n",
       "      <th></th>\n",
       "      <th>school_name</th>\n",
       "      <th>district_name</th>\n",
       "      <th>enrollment11</th>\n",
       "      <th>num_testtakers11</th>\n",
       "      <th>num_erwbenchmark11</th>\n",
       "      <th>pct_erwbenchmark11</th>\n",
       "      <th>num_mathbenchmark11</th>\n",
       "      <th>pct_mathbenchmark11</th>\n",
       "      <th>total_num_bothbenchmark11</th>\n",
       "      <th>pct_bothbenchmark11</th>\n",
       "    </tr>\n",
       "  </thead>\n",
       "  <tbody>\n",
       "    <tr>\n",
       "      <th>0</th>\n",
       "      <td>Colusa Alternative Home</td>\n",
       "      <td>Colusa Unified</td>\n",
       "      <td>18.0</td>\n",
       "      <td>0.0</td>\n",
       "      <td>NaN</td>\n",
       "      <td>NaN</td>\n",
       "      <td>NaN</td>\n",
       "      <td>NaN</td>\n",
       "      <td>NaN</td>\n",
       "      <td>NaN</td>\n",
       "    </tr>\n",
       "    <tr>\n",
       "      <th>1</th>\n",
       "      <td>Maxwell Sr High</td>\n",
       "      <td>Maxwell Unified</td>\n",
       "      <td>26.0</td>\n",
       "      <td>6.0</td>\n",
       "      <td>*</td>\n",
       "      <td>*</td>\n",
       "      <td>*</td>\n",
       "      <td>*</td>\n",
       "      <td>*</td>\n",
       "      <td>*</td>\n",
       "    </tr>\n",
       "    <tr>\n",
       "      <th>2</th>\n",
       "      <td>Belmont Senior High</td>\n",
       "      <td>Los Angeles Unified</td>\n",
       "      <td>219.0</td>\n",
       "      <td>174.0</td>\n",
       "      <td>42</td>\n",
       "      <td>24.14</td>\n",
       "      <td>12</td>\n",
       "      <td>6.90</td>\n",
       "      <td>11</td>\n",
       "      <td>6.32</td>\n",
       "    </tr>\n",
       "    <tr>\n",
       "      <th>3</th>\n",
       "      <td>Canoga Park Senior High</td>\n",
       "      <td>Los Angeles Unified</td>\n",
       "      <td>333.0</td>\n",
       "      <td>275.0</td>\n",
       "      <td>97</td>\n",
       "      <td>35.27</td>\n",
       "      <td>37</td>\n",
       "      <td>13.45</td>\n",
       "      <td>35</td>\n",
       "      <td>12.73</td>\n",
       "    </tr>\n",
       "    <tr>\n",
       "      <th>4</th>\n",
       "      <td>Whitman Continuation</td>\n",
       "      <td>Los Angeles Unified</td>\n",
       "      <td>17.0</td>\n",
       "      <td>5.0</td>\n",
       "      <td>*</td>\n",
       "      <td>*</td>\n",
       "      <td>*</td>\n",
       "      <td>*</td>\n",
       "      <td>*</td>\n",
       "      <td>*</td>\n",
       "    </tr>\n",
       "  </tbody>\n",
       "</table>\n",
       "</div>"
      ],
      "text/plain": [
       "               school_name        district_name  enrollment11  \\\n",
       "0  Colusa Alternative Home       Colusa Unified          18.0   \n",
       "1          Maxwell Sr High      Maxwell Unified          26.0   \n",
       "2      Belmont Senior High  Los Angeles Unified         219.0   \n",
       "3  Canoga Park Senior High  Los Angeles Unified         333.0   \n",
       "4     Whitman Continuation  Los Angeles Unified          17.0   \n",
       "\n",
       "   num_testtakers11 num_erwbenchmark11 pct_erwbenchmark11 num_mathbenchmark11  \\\n",
       "0               0.0                NaN                NaN                 NaN   \n",
       "1               6.0                  *                  *                   *   \n",
       "2             174.0                 42              24.14                  12   \n",
       "3             275.0                 97              35.27                  37   \n",
       "4               5.0                  *                  *                   *   \n",
       "\n",
       "  pct_mathbenchmark11 total_num_bothbenchmark11 pct_bothbenchmark11  \n",
       "0                 NaN                       NaN                 NaN  \n",
       "1                   *                         *                   *  \n",
       "2                6.90                        11                6.32  \n",
       "3               13.45                        35               12.73  \n",
       "4                   *                         *                   *  "
      ]
     },
     "execution_count": 56,
     "metadata": {},
     "output_type": "execute_result"
    }
   ],
   "source": [
    "# Rename all columns\n",
    "new_columns = [\n",
    "    'school_name',\n",
    "    'district_name',\n",
    "    'enrollment11',\n",
    "    'num_testtakers11',\n",
    "    'num_erwbenchmark11',\n",
    "    'pct_erwbenchmark11',\n",
    "    'num_mathbenchmark11',\n",
    "    'pct_mathbenchmark11',\n",
    "    'total_num_bothbenchmark11',\n",
    "    'pct_bothbenchmark11'\n",
    "]\n",
    "sat_ca.columns = new_columns\n",
    "sat_ca.head()"
   ]
  },
  {
   "cell_type": "code",
   "execution_count": 57,
   "metadata": {},
   "outputs": [
    {
     "data": {
      "text/plain": [
       "school_name                   object\n",
       "district_name                 object\n",
       "enrollment11                 float64\n",
       "num_testtakers11             float64\n",
       "num_erwbenchmark11            object\n",
       "pct_erwbenchmark11            object\n",
       "num_mathbenchmark11           object\n",
       "pct_mathbenchmark11           object\n",
       "total_num_bothbenchmark11     object\n",
       "pct_bothbenchmark11           object\n",
       "dtype: object"
      ]
     },
     "execution_count": 57,
     "metadata": {},
     "output_type": "execute_result"
    }
   ],
   "source": [
    "# Check all data types of table\n",
    "sat_ca.dtypes"
   ]
  },
  {
   "cell_type": "code",
   "execution_count": 58,
   "metadata": {},
   "outputs": [
    {
     "name": "stdout",
     "output_type": "stream",
     "text": [
      "1       *\n",
      "1363    *\n",
      "1364    *\n",
      "455     *\n",
      "1369    *\n",
      "Name: num_erwbenchmark11, dtype: object\n",
      "1       *\n",
      "1319    *\n",
      "1327    *\n",
      "445     *\n",
      "1330    *\n",
      "Name: pct_erwbenchmark11, dtype: object\n",
      "1       *\n",
      "595     *\n",
      "1756    *\n",
      "1754    *\n",
      "604     *\n",
      "Name: num_mathbenchmark11, dtype: object\n",
      "1       *\n",
      "498     *\n",
      "1042    *\n",
      "1040    *\n",
      "1817    *\n",
      "Name: pct_mathbenchmark11, dtype: object\n",
      "1       *\n",
      "1713    *\n",
      "1711    *\n",
      "581     *\n",
      "586     *\n",
      "Name: total_num_bothbenchmark11, dtype: object\n",
      "1       *\n",
      "1850    *\n",
      "933     *\n",
      "934     *\n",
      "937     *\n",
      "Name: pct_bothbenchmark11, dtype: object\n"
     ]
    }
   ],
   "source": [
    "# Check to see why numerical fields are being treated as objects\n",
    "column_names = ['num_erwbenchmark11', 'pct_erwbenchmark11', 'num_mathbenchmark11',\n",
    "               'pct_mathbenchmark11', 'total_num_bothbenchmark11', 'pct_bothbenchmark11']\n",
    "def check_objects(columns):\n",
    "    for column in columns:\n",
    "        print(sat_ca[column].sort_values().head())\n",
    "\n",
    "check_objects(column_names)"
   ]
  },
  {
   "cell_type": "code",
   "execution_count": 59,
   "metadata": {},
   "outputs": [],
   "source": [
    "# Helper Function to convert values to floats\n",
    "# Function taken from intro to pandas GA lecture\n",
    "def to_num(x):\n",
    "    try:\n",
    "        out = float(x)\n",
    "    except:\n",
    "        out = np.nan\n",
    "    return out"
   ]
  },
  {
   "cell_type": "code",
   "execution_count": 60,
   "metadata": {},
   "outputs": [],
   "source": [
    "# Convert all columns with incorrect data types to floats\n",
    "def convert_to_num(columns):\n",
    "    for column in columns:\n",
    "        sat_ca[column] = sat_ca[column].apply(to_num)\n",
    "        \n",
    "convert_to_num(column_names)"
   ]
  },
  {
   "cell_type": "code",
   "execution_count": 61,
   "metadata": {},
   "outputs": [
    {
     "name": "stdout",
     "output_type": "stream",
     "text": [
      "1727    0.0\n",
      "1958    0.0\n",
      "309     0.0\n",
      "1395    1.0\n",
      "161     1.0\n",
      "Name: num_erwbenchmark11, dtype: float64\n",
      "1727    0.00\n",
      "1958    0.00\n",
      "309     0.00\n",
      "467     1.75\n",
      "1078    2.27\n",
      "Name: pct_erwbenchmark11, dtype: float64\n",
      "1160    0.0\n",
      "60      0.0\n",
      "287     0.0\n",
      "1395    0.0\n",
      "1641    0.0\n",
      "Name: num_mathbenchmark11, dtype: float64\n",
      "598     0.0\n",
      "137     0.0\n",
      "84      0.0\n",
      "1200    0.0\n",
      "1641    0.0\n",
      "Name: pct_mathbenchmark11, dtype: float64\n",
      "467     0.0\n",
      "1160    0.0\n",
      "940     0.0\n",
      "1808    0.0\n",
      "1395    0.0\n",
      "Name: total_num_bothbenchmark11, dtype: float64\n",
      "1080    0.0\n",
      "598     0.0\n",
      "60      0.0\n",
      "705     0.0\n",
      "727     0.0\n",
      "Name: pct_bothbenchmark11, dtype: float64\n"
     ]
    }
   ],
   "source": [
    "# Check conversions worked\n",
    "def check_conversions(columns):\n",
    "    for column in columns:\n",
    "        print(sat_ca[column].sort_values().head())\n",
    "    \n",
    "check_conversions(column_names)"
   ]
  },
  {
   "cell_type": "code",
   "execution_count": 62,
   "metadata": {},
   "outputs": [
    {
     "data": {
      "text/plain": [
       "school_name                   object\n",
       "district_name                 object\n",
       "enrollment11                 float64\n",
       "num_testtakers11             float64\n",
       "num_erwbenchmark11           float64\n",
       "pct_erwbenchmark11           float64\n",
       "num_mathbenchmark11          float64\n",
       "pct_mathbenchmark11          float64\n",
       "total_num_bothbenchmark11    float64\n",
       "pct_bothbenchmark11          float64\n",
       "dtype: object"
      ]
     },
     "execution_count": 62,
     "metadata": {},
     "output_type": "execute_result"
    }
   ],
   "source": [
    "# Check data types\n",
    "sat_ca.dtypes"
   ]
  },
  {
   "cell_type": "code",
   "execution_count": 63,
   "metadata": {},
   "outputs": [
    {
     "data": {
      "text/plain": [
       "school_name                  598\n",
       "district_name                 59\n",
       "enrollment11                   1\n",
       "num_testtakers11               1\n",
       "num_erwbenchmark11           844\n",
       "pct_erwbenchmark11           844\n",
       "num_mathbenchmark11          844\n",
       "pct_mathbenchmark11          844\n",
       "total_num_bothbenchmark11    844\n",
       "pct_bothbenchmark11          844\n",
       "dtype: int64"
      ]
     },
     "execution_count": 63,
     "metadata": {},
     "output_type": "execute_result"
    }
   ],
   "source": [
    "# Check for missing data in California Data\n",
    "sat_ca.isna().sum()"
   ]
  },
  {
   "cell_type": "code",
   "execution_count": 64,
   "metadata": {},
   "outputs": [
    {
     "data": {
      "text/plain": [
       "school_name                  23.178295\n",
       "district_name                 2.286822\n",
       "enrollment11                  0.038760\n",
       "num_testtakers11              0.038760\n",
       "num_erwbenchmark11           32.713178\n",
       "pct_erwbenchmark11           32.713178\n",
       "num_mathbenchmark11          32.713178\n",
       "pct_mathbenchmark11          32.713178\n",
       "total_num_bothbenchmark11    32.713178\n",
       "pct_bothbenchmark11          32.713178\n",
       "dtype: float64"
      ]
     },
     "execution_count": 64,
     "metadata": {},
     "output_type": "execute_result"
    }
   ],
   "source": [
    "# Check for the percentage of missing data in California Data\n",
    "sat_ca.isna().mean() * 100"
   ]
  },
  {
   "cell_type": "code",
   "execution_count": 65,
   "metadata": {},
   "outputs": [
    {
     "data": {
      "text/plain": [
       "(1285, 10)"
      ]
     },
     "execution_count": 65,
     "metadata": {},
     "output_type": "execute_result"
    }
   ],
   "source": [
    "# Drop all missing values in California Data\n",
    "sat_ca.dropna(inplace = True)\n",
    "sat_ca.shape"
   ]
  },
  {
   "cell_type": "code",
   "execution_count": 66,
   "metadata": {},
   "outputs": [
    {
     "data": {
      "text/plain": [
       "school_name                  0.0\n",
       "district_name                0.0\n",
       "enrollment11                 0.0\n",
       "num_testtakers11             0.0\n",
       "num_erwbenchmark11           0.0\n",
       "pct_erwbenchmark11           0.0\n",
       "num_mathbenchmark11          0.0\n",
       "pct_mathbenchmark11          0.0\n",
       "total_num_bothbenchmark11    0.0\n",
       "pct_bothbenchmark11          0.0\n",
       "dtype: float64"
      ]
     },
     "execution_count": 66,
     "metadata": {},
     "output_type": "execute_result"
    }
   ],
   "source": [
    "# Check for anymore missing values\n",
    "sat_ca.isnull().mean()"
   ]
  },
  {
   "cell_type": "code",
   "execution_count": 67,
   "metadata": {},
   "outputs": [],
   "source": [
    "# Extract 10 largest school districts\n",
    "# source: https://www.cde.ca.gov/ds/ad/ceflargesmalldist.asp\n",
    "districts = [\n",
    "    'Los Angeles Unified',\n",
    "    'San Diego Unified',\n",
    "    'Fresno Unified',\n",
    "    'Long Beach Unified',\n",
    "    'Elk Grove Unified',\n",
    "    'San Francisco Unified',\n",
    "    'San Bernardino City Unified',\n",
    "    'Capistrano Unified',\n",
    "    'Corona-Norco Unified',\n",
    "    'San Juan Unified'\n",
    "]\n",
    "sat_ca = sat_ca[sat_ca['district_name'].isin(districts)]"
   ]
  },
  {
   "cell_type": "code",
   "execution_count": 68,
   "metadata": {},
   "outputs": [
    {
     "data": {
      "text/plain": [
       "array(['Los Angeles Unified', 'Corona-Norco Unified', 'San Diego Unified',\n",
       "       'San Francisco Unified', 'San Bernardino City Unified',\n",
       "       'San Juan Unified', 'Elk Grove Unified', 'Fresno Unified',\n",
       "       'Long Beach Unified', 'Capistrano Unified'], dtype=object)"
      ]
     },
     "execution_count": 68,
     "metadata": {},
     "output_type": "execute_result"
    }
   ],
   "source": [
    "# Check all districts were correctly extracted\n",
    "sat_ca['district_name'].unique()"
   ]
  },
  {
   "cell_type": "code",
   "execution_count": 69,
   "metadata": {},
   "outputs": [
    {
     "data": {
      "text/html": [
       "<div>\n",
       "<style scoped>\n",
       "    .dataframe tbody tr th:only-of-type {\n",
       "        vertical-align: middle;\n",
       "    }\n",
       "\n",
       "    .dataframe tbody tr th {\n",
       "        vertical-align: top;\n",
       "    }\n",
       "\n",
       "    .dataframe thead th {\n",
       "        text-align: right;\n",
       "    }\n",
       "</style>\n",
       "<table border=\"1\" class=\"dataframe\">\n",
       "  <thead>\n",
       "    <tr style=\"text-align: right;\">\n",
       "      <th></th>\n",
       "      <th>school_name</th>\n",
       "      <th>district_name</th>\n",
       "      <th>enrollment11</th>\n",
       "      <th>num_testtakers11</th>\n",
       "      <th>num_erwbenchmark11</th>\n",
       "      <th>pct_erwbenchmark11</th>\n",
       "      <th>num_mathbenchmark11</th>\n",
       "      <th>pct_mathbenchmark11</th>\n",
       "      <th>total_num_bothbenchmark11</th>\n",
       "      <th>pct_bothbenchmark11</th>\n",
       "    </tr>\n",
       "  </thead>\n",
       "  <tbody>\n",
       "    <tr>\n",
       "      <th>2</th>\n",
       "      <td>Belmont Senior High</td>\n",
       "      <td>Los Angeles Unified</td>\n",
       "      <td>219.0</td>\n",
       "      <td>174.0</td>\n",
       "      <td>42.0</td>\n",
       "      <td>24.14</td>\n",
       "      <td>12.0</td>\n",
       "      <td>6.90</td>\n",
       "      <td>11.0</td>\n",
       "      <td>6.32</td>\n",
       "    </tr>\n",
       "    <tr>\n",
       "      <th>3</th>\n",
       "      <td>Canoga Park Senior High</td>\n",
       "      <td>Los Angeles Unified</td>\n",
       "      <td>333.0</td>\n",
       "      <td>275.0</td>\n",
       "      <td>97.0</td>\n",
       "      <td>35.27</td>\n",
       "      <td>37.0</td>\n",
       "      <td>13.45</td>\n",
       "      <td>35.0</td>\n",
       "      <td>12.73</td>\n",
       "    </tr>\n",
       "    <tr>\n",
       "      <th>5</th>\n",
       "      <td>Foshay Learning Center</td>\n",
       "      <td>Los Angeles Unified</td>\n",
       "      <td>187.0</td>\n",
       "      <td>183.0</td>\n",
       "      <td>91.0</td>\n",
       "      <td>49.73</td>\n",
       "      <td>47.0</td>\n",
       "      <td>25.68</td>\n",
       "      <td>44.0</td>\n",
       "      <td>24.04</td>\n",
       "    </tr>\n",
       "    <tr>\n",
       "      <th>9</th>\n",
       "      <td>New Open World Academy K-12</td>\n",
       "      <td>Los Angeles Unified</td>\n",
       "      <td>79.0</td>\n",
       "      <td>79.0</td>\n",
       "      <td>22.0</td>\n",
       "      <td>27.85</td>\n",
       "      <td>10.0</td>\n",
       "      <td>12.66</td>\n",
       "      <td>6.0</td>\n",
       "      <td>7.59</td>\n",
       "    </tr>\n",
       "    <tr>\n",
       "      <th>10</th>\n",
       "      <td>Corona High</td>\n",
       "      <td>Corona-Norco Unified</td>\n",
       "      <td>572.0</td>\n",
       "      <td>168.0</td>\n",
       "      <td>128.0</td>\n",
       "      <td>76.19</td>\n",
       "      <td>84.0</td>\n",
       "      <td>50.00</td>\n",
       "      <td>78.0</td>\n",
       "      <td>46.43</td>\n",
       "    </tr>\n",
       "  </tbody>\n",
       "</table>\n",
       "</div>"
      ],
      "text/plain": [
       "                    school_name         district_name  enrollment11  \\\n",
       "2           Belmont Senior High   Los Angeles Unified         219.0   \n",
       "3       Canoga Park Senior High   Los Angeles Unified         333.0   \n",
       "5        Foshay Learning Center   Los Angeles Unified         187.0   \n",
       "9   New Open World Academy K-12   Los Angeles Unified          79.0   \n",
       "10                  Corona High  Corona-Norco Unified         572.0   \n",
       "\n",
       "    num_testtakers11  num_erwbenchmark11  pct_erwbenchmark11  \\\n",
       "2              174.0                42.0               24.14   \n",
       "3              275.0                97.0               35.27   \n",
       "5              183.0                91.0               49.73   \n",
       "9               79.0                22.0               27.85   \n",
       "10             168.0               128.0               76.19   \n",
       "\n",
       "    num_mathbenchmark11  pct_mathbenchmark11  total_num_bothbenchmark11  \\\n",
       "2                  12.0                 6.90                       11.0   \n",
       "3                  37.0                13.45                       35.0   \n",
       "5                  47.0                25.68                       44.0   \n",
       "9                  10.0                12.66                        6.0   \n",
       "10                 84.0                50.00                       78.0   \n",
       "\n",
       "    pct_bothbenchmark11  \n",
       "2                  6.32  \n",
       "3                 12.73  \n",
       "5                 24.04  \n",
       "9                  7.59  \n",
       "10                46.43  "
      ]
     },
     "execution_count": 69,
     "metadata": {},
     "output_type": "execute_result"
    }
   ],
   "source": [
    "sat_ca.head()"
   ]
  },
  {
   "cell_type": "code",
   "execution_count": 70,
   "metadata": {},
   "outputs": [
    {
     "data": {
      "text/plain": [
       "(318, 10)"
      ]
     },
     "execution_count": 70,
     "metadata": {},
     "output_type": "execute_result"
    }
   ],
   "source": [
    "sat_ca.shape"
   ]
  },
  {
   "cell_type": "code",
   "execution_count": 71,
   "metadata": {},
   "outputs": [],
   "source": [
    "# save cleaned SAT California Data to csv\n",
    "sat_ca.to_csv('../data/sat_2019_ca_clean.csv', index = False)"
   ]
  },
  {
   "cell_type": "markdown",
   "metadata": {
    "tags": []
   },
   "source": [
    "#### SAT By College Data Cleaning "
   ]
  },
  {
   "cell_type": "code",
   "execution_count": 72,
   "metadata": {},
   "outputs": [
    {
     "data": {
      "text/html": [
       "<div>\n",
       "<style scoped>\n",
       "    .dataframe tbody tr th:only-of-type {\n",
       "        vertical-align: middle;\n",
       "    }\n",
       "\n",
       "    .dataframe tbody tr th {\n",
       "        vertical-align: top;\n",
       "    }\n",
       "\n",
       "    .dataframe thead th {\n",
       "        text-align: right;\n",
       "    }\n",
       "</style>\n",
       "<table border=\"1\" class=\"dataframe\">\n",
       "  <thead>\n",
       "    <tr style=\"text-align: right;\">\n",
       "      <th></th>\n",
       "      <th>School</th>\n",
       "      <th>Test Optional?</th>\n",
       "      <th>Applies to Class Year(s)</th>\n",
       "      <th>Policy Details</th>\n",
       "      <th>Number of Applicants</th>\n",
       "      <th>Accept Rate</th>\n",
       "      <th>SAT Total 25th-75th Percentile</th>\n",
       "      <th>ACT Total 25th-75th Percentile</th>\n",
       "    </tr>\n",
       "  </thead>\n",
       "  <tbody>\n",
       "    <tr>\n",
       "      <th>0</th>\n",
       "      <td>Stanford University</td>\n",
       "      <td>Yes</td>\n",
       "      <td>2021</td>\n",
       "      <td>Stanford has adopted a one-year test optional ...</td>\n",
       "      <td>47452</td>\n",
       "      <td>4.3%</td>\n",
       "      <td>1440-1570</td>\n",
       "      <td>32-35</td>\n",
       "    </tr>\n",
       "    <tr>\n",
       "      <th>1</th>\n",
       "      <td>Harvard College</td>\n",
       "      <td>Yes</td>\n",
       "      <td>2021</td>\n",
       "      <td>Harvard has adopted a one-year test optional p...</td>\n",
       "      <td>42749</td>\n",
       "      <td>4.7%</td>\n",
       "      <td>1460-1580</td>\n",
       "      <td>33-35</td>\n",
       "    </tr>\n",
       "    <tr>\n",
       "      <th>2</th>\n",
       "      <td>Princeton University</td>\n",
       "      <td>Yes</td>\n",
       "      <td>2021</td>\n",
       "      <td>Princeton has adopted a one-year test optional...</td>\n",
       "      <td>35370</td>\n",
       "      <td>5.5%</td>\n",
       "      <td>1440-1570</td>\n",
       "      <td>32-35</td>\n",
       "    </tr>\n",
       "    <tr>\n",
       "      <th>3</th>\n",
       "      <td>Columbia University</td>\n",
       "      <td>Yes</td>\n",
       "      <td>2021</td>\n",
       "      <td>Columbia has adopted a one-year test optional ...</td>\n",
       "      <td>40203</td>\n",
       "      <td>5.5%</td>\n",
       "      <td>1450-1560</td>\n",
       "      <td>33-35</td>\n",
       "    </tr>\n",
       "    <tr>\n",
       "      <th>4</th>\n",
       "      <td>Yale University</td>\n",
       "      <td>Yes</td>\n",
       "      <td>2021</td>\n",
       "      <td>Yale has adopted a one-year test optional poli...</td>\n",
       "      <td>36844</td>\n",
       "      <td>6.1%</td>\n",
       "      <td>1460-1570</td>\n",
       "      <td>33-35</td>\n",
       "    </tr>\n",
       "  </tbody>\n",
       "</table>\n",
       "</div>"
      ],
      "text/plain": [
       "                 School Test Optional? Applies to Class Year(s)  \\\n",
       "0   Stanford University            Yes                     2021   \n",
       "1       Harvard College            Yes                     2021   \n",
       "2  Princeton University            Yes                     2021   \n",
       "3   Columbia University            Yes                     2021   \n",
       "4       Yale University            Yes                     2021   \n",
       "\n",
       "                                      Policy Details  Number of Applicants  \\\n",
       "0  Stanford has adopted a one-year test optional ...                 47452   \n",
       "1  Harvard has adopted a one-year test optional p...                 42749   \n",
       "2  Princeton has adopted a one-year test optional...                 35370   \n",
       "3  Columbia has adopted a one-year test optional ...                 40203   \n",
       "4  Yale has adopted a one-year test optional poli...                 36844   \n",
       "\n",
       "  Accept Rate SAT Total 25th-75th Percentile ACT Total 25th-75th Percentile  \n",
       "0        4.3%                      1440-1570                          32-35  \n",
       "1        4.7%                      1460-1580                          33-35  \n",
       "2        5.5%                      1440-1570                          32-35  \n",
       "3        5.5%                      1450-1560                          33-35  \n",
       "4        6.1%                      1460-1570                          33-35  "
      ]
     },
     "execution_count": 72,
     "metadata": {},
     "output_type": "execute_result"
    }
   ],
   "source": [
    "# Display first 5 rows of College SAT Data\n",
    "sat_by_college.head()"
   ]
  },
  {
   "cell_type": "code",
   "execution_count": 73,
   "metadata": {},
   "outputs": [
    {
     "name": "stdout",
     "output_type": "stream",
     "text": [
      "<class 'pandas.core.frame.DataFrame'>\n",
      "RangeIndex: 416 entries, 0 to 415\n",
      "Data columns (total 8 columns):\n",
      " #   Column                          Non-Null Count  Dtype \n",
      "---  ------                          --------------  ----- \n",
      " 0   School                          416 non-null    object\n",
      " 1   Test Optional?                  416 non-null    object\n",
      " 2   Applies to Class Year(s)        390 non-null    object\n",
      " 3   Policy Details                  416 non-null    object\n",
      " 4   Number of Applicants            416 non-null    int64 \n",
      " 5   Accept Rate                     416 non-null    object\n",
      " 6   SAT Total 25th-75th Percentile  416 non-null    object\n",
      " 7   ACT Total 25th-75th Percentile  416 non-null    object\n",
      "dtypes: int64(1), object(7)\n",
      "memory usage: 26.1+ KB\n"
     ]
    }
   ],
   "source": [
    "# Check data types and null entries\n",
    "sat_by_college.info()"
   ]
  },
  {
   "cell_type": "code",
   "execution_count": 74,
   "metadata": {},
   "outputs": [],
   "source": [
    "# Drop unwanted columns for College SAT data\n",
    "sat_by_college.drop(columns = ['Test Optional?', 'Applies to Class Year(s)', 'Policy Details', 'Number of Applicants', 'Accept Rate', 'ACT Total 25th-75th Percentile'], inplace = True)"
   ]
  },
  {
   "cell_type": "code",
   "execution_count": 75,
   "metadata": {},
   "outputs": [
    {
     "data": {
      "text/html": [
       "<div>\n",
       "<style scoped>\n",
       "    .dataframe tbody tr th:only-of-type {\n",
       "        vertical-align: middle;\n",
       "    }\n",
       "\n",
       "    .dataframe tbody tr th {\n",
       "        vertical-align: top;\n",
       "    }\n",
       "\n",
       "    .dataframe thead th {\n",
       "        text-align: right;\n",
       "    }\n",
       "</style>\n",
       "<table border=\"1\" class=\"dataframe\">\n",
       "  <thead>\n",
       "    <tr style=\"text-align: right;\">\n",
       "      <th></th>\n",
       "      <th>School</th>\n",
       "      <th>SAT Total 25th-75th Percentile</th>\n",
       "    </tr>\n",
       "  </thead>\n",
       "  <tbody>\n",
       "    <tr>\n",
       "      <th>0</th>\n",
       "      <td>Stanford University</td>\n",
       "      <td>1440-1570</td>\n",
       "    </tr>\n",
       "    <tr>\n",
       "      <th>1</th>\n",
       "      <td>Harvard College</td>\n",
       "      <td>1460-1580</td>\n",
       "    </tr>\n",
       "    <tr>\n",
       "      <th>2</th>\n",
       "      <td>Princeton University</td>\n",
       "      <td>1440-1570</td>\n",
       "    </tr>\n",
       "    <tr>\n",
       "      <th>3</th>\n",
       "      <td>Columbia University</td>\n",
       "      <td>1450-1560</td>\n",
       "    </tr>\n",
       "    <tr>\n",
       "      <th>4</th>\n",
       "      <td>Yale University</td>\n",
       "      <td>1460-1570</td>\n",
       "    </tr>\n",
       "  </tbody>\n",
       "</table>\n",
       "</div>"
      ],
      "text/plain": [
       "                 School SAT Total 25th-75th Percentile\n",
       "0   Stanford University                      1440-1570\n",
       "1       Harvard College                      1460-1580\n",
       "2  Princeton University                      1440-1570\n",
       "3   Columbia University                      1450-1560\n",
       "4       Yale University                      1460-1570"
      ]
     },
     "execution_count": 75,
     "metadata": {},
     "output_type": "execute_result"
    }
   ],
   "source": [
    "sat_by_college.head()"
   ]
  },
  {
   "cell_type": "code",
   "execution_count": 76,
   "metadata": {},
   "outputs": [
    {
     "data": {
      "text/html": [
       "<div>\n",
       "<style scoped>\n",
       "    .dataframe tbody tr th:only-of-type {\n",
       "        vertical-align: middle;\n",
       "    }\n",
       "\n",
       "    .dataframe tbody tr th {\n",
       "        vertical-align: top;\n",
       "    }\n",
       "\n",
       "    .dataframe thead th {\n",
       "        text-align: right;\n",
       "    }\n",
       "</style>\n",
       "<table border=\"1\" class=\"dataframe\">\n",
       "  <thead>\n",
       "    <tr style=\"text-align: right;\">\n",
       "      <th></th>\n",
       "      <th>school</th>\n",
       "      <th>sat_scores</th>\n",
       "    </tr>\n",
       "  </thead>\n",
       "  <tbody>\n",
       "    <tr>\n",
       "      <th>0</th>\n",
       "      <td>Stanford University</td>\n",
       "      <td>1440-1570</td>\n",
       "    </tr>\n",
       "    <tr>\n",
       "      <th>1</th>\n",
       "      <td>Harvard College</td>\n",
       "      <td>1460-1580</td>\n",
       "    </tr>\n",
       "    <tr>\n",
       "      <th>2</th>\n",
       "      <td>Princeton University</td>\n",
       "      <td>1440-1570</td>\n",
       "    </tr>\n",
       "    <tr>\n",
       "      <th>3</th>\n",
       "      <td>Columbia University</td>\n",
       "      <td>1450-1560</td>\n",
       "    </tr>\n",
       "    <tr>\n",
       "      <th>4</th>\n",
       "      <td>Yale University</td>\n",
       "      <td>1460-1570</td>\n",
       "    </tr>\n",
       "  </tbody>\n",
       "</table>\n",
       "</div>"
      ],
      "text/plain": [
       "                 school sat_scores\n",
       "0   Stanford University  1440-1570\n",
       "1       Harvard College  1460-1580\n",
       "2  Princeton University  1440-1570\n",
       "3   Columbia University  1450-1560\n",
       "4       Yale University  1460-1570"
      ]
     },
     "execution_count": 76,
     "metadata": {},
     "output_type": "execute_result"
    }
   ],
   "source": [
    "# Rename Columns\n",
    "sat_by_college.columns = ['school', 'sat_scores']\n",
    "sat_by_college.head()"
   ]
  },
  {
   "cell_type": "code",
   "execution_count": 77,
   "metadata": {},
   "outputs": [
    {
     "data": {
      "text/plain": [
       "school        0\n",
       "sat_scores    0\n",
       "dtype: int64"
      ]
     },
     "execution_count": 77,
     "metadata": {},
     "output_type": "execute_result"
    }
   ],
   "source": [
    "# Check for missing values\n",
    "sat_by_college.isnull().sum()"
   ]
  },
  {
   "cell_type": "code",
   "execution_count": 78,
   "metadata": {
    "tags": []
   },
   "outputs": [],
   "source": [
    "# Filter out ranked Top 50 Colleges and Universitys\n",
    "top_50 = [\n",
    "    'Princeton University', 'Harvard College', 'Columbia University', \n",
    "    'Massachusetts Institute of Technology', 'Yale University', 'Stanford University', \n",
    "    'University of Chicago', 'University of Pennsylvania', 'California Institute of Technology', \n",
    "    'Johns Hopkins University', 'Northwestern University', 'Duke University', 'Dartmouth College', \n",
    "    'Brown University', 'Vanderbilt University', 'Rice University', 'Washington University in St. Louis', \n",
    "    'Cornell University', 'University of Notre Dame',\n",
    "    'University of California—\\u200bLos Angeles', 'Emory University', \n",
    "    'University of California—\\u200bBerkeley', 'Georgetown University',\n",
    "    'University of Michigan—\\u200bAnn Arbor', 'University of Southern California',\n",
    "    'University of Virginia', 'University of North Carolina—\\u200bChapel Hill', 'Wake Forest University',\n",
    "    'New York University', 'Tufts University', 'University of California—\\u200bSanta Barbara',\n",
    "    'University of Florida', 'University of Rochester', 'Boston College', 'Georgia Institute of Technology',\n",
    "    'University of California—\\u200bIrvine', 'University of California—\\u200bSan Diego',\n",
    "    'University of California—\\u200bDavis', 'College of William and Mary',\n",
    "    'Tulane University', 'Boston University', 'Brandeis University', 'Case Western Reserve University',\n",
    "    'University of Texas—\\u200bAustin', 'University of Wisconsin—\\u200bMadison',\n",
    "    'University of Georgia', 'University of Illinois—\\u200bUrbana-\\u200bChampaign',\n",
    "    'Lehigh University', 'Northeastern University', 'Pepperdine University', 'University of Miami'\n",
    "]\n",
    "\n",
    "sat_by_college = sat_by_college[sat_by_college['school'].isin(top_50)]"
   ]
  },
  {
   "cell_type": "code",
   "execution_count": 79,
   "metadata": {},
   "outputs": [
    {
     "data": {
      "text/plain": [
       "(51, 2)"
      ]
     },
     "execution_count": 79,
     "metadata": {},
     "output_type": "execute_result"
    }
   ],
   "source": [
    "# Check all filtered colleges and universities\n",
    "sat_by_college.shape"
   ]
  },
  {
   "cell_type": "code",
   "execution_count": 80,
   "metadata": {},
   "outputs": [
    {
     "data": {
      "text/plain": [
       "school        0\n",
       "sat_scores    0\n",
       "dtype: int64"
      ]
     },
     "execution_count": 80,
     "metadata": {},
     "output_type": "execute_result"
    }
   ],
   "source": [
    "sat_by_college.isnull().sum()"
   ]
  },
  {
   "cell_type": "code",
   "execution_count": 81,
   "metadata": {},
   "outputs": [
    {
     "data": {
      "text/plain": [
       "array(['1440-1570', '1460-1580', '1450-1560', '1460-1570',\n",
       "       '\\u200b\\u200b 1530-1560', '\\u200b\\u200b 1500-1570',\n",
       "       '\\u200b\\u200b 1440-1570', '\\u200b\\u200b 1490-1570', '1440-1560',\n",
       "       '1450-1570', '1440-1550', '1460-1560', '1470-1560', '1400-1560',\n",
       "       '1290-1510', '1360-1520', '1350-1530', '1370-1530', '1300-1530',\n",
       "       '1390-1540', '1470-1570', '1400-1550', '1370-1510', '1350-1520',\n",
       "       '1300-1510', '1330-1500', '1300-1490', '1340-1530', '1340-1500',\n",
       "       '1180-1440', '1280-1420', '1370-1490', '1300-1500', '1260-1460',\n",
       "       '1320-1490', '1250-1470', '1280-1500', '1240-1470', '1280-1450',\n",
       "       '1220-1420', '1320-1510', '1150-1410', '1240-1410', '1330-1450',\n",
       "       '1220-1480', '1280-1440'], dtype=object)"
      ]
     },
     "execution_count": 81,
     "metadata": {},
     "output_type": "execute_result"
    }
   ],
   "source": [
    "sat_by_college['sat_scores'].unique()"
   ]
  },
  {
   "cell_type": "code",
   "execution_count": 82,
   "metadata": {},
   "outputs": [
    {
     "data": {
      "text/plain": [
       "array(['1440-1570', '1460-1580', '1450-1560', '1460-1570', '1530-1560',\n",
       "       '1500-1570', '1490-1570', '1440-1560', '1450-1570', '1440-1550',\n",
       "       '1460-1560', '1470-1560', '1400-1560', '1290-1510', '1360-1520',\n",
       "       '1350-1530', '1370-1530', '1300-1530', '1390-1540', '1470-1570',\n",
       "       '1400-1550', '1370-1510', '1350-1520', '1300-1510', '1330-1500',\n",
       "       '1300-1490', '1340-1530', '1340-1500', '1180-1440', '1280-1420',\n",
       "       '1370-1490', '1300-1500', '1260-1460', '1320-1490', '1250-1470',\n",
       "       '1280-1500', '1240-1470', '1280-1450', '1220-1420', '1320-1510',\n",
       "       '1150-1410', '1240-1410', '1330-1450', '1220-1480', '1280-1440'],\n",
       "      dtype=object)"
      ]
     },
     "execution_count": 82,
     "metadata": {},
     "output_type": "execute_result"
    }
   ],
   "source": [
    "# Get rid of special characters\n",
    "sat_by_college['sat_scores'] = sat_by_college['sat_scores'].str.replace('\\u200b\\u200b ', '')\n",
    "sat_by_college['sat_scores'].unique()"
   ]
  },
  {
   "cell_type": "code",
   "execution_count": 83,
   "metadata": {},
   "outputs": [
    {
     "name": "stdout",
     "output_type": "stream",
     "text": [
      "school        object\n",
      "sat_scores    object\n",
      "low_score     object\n",
      "high_score    object\n",
      "dtype: object\n"
     ]
    },
    {
     "data": {
      "text/html": [
       "<div>\n",
       "<style scoped>\n",
       "    .dataframe tbody tr th:only-of-type {\n",
       "        vertical-align: middle;\n",
       "    }\n",
       "\n",
       "    .dataframe tbody tr th {\n",
       "        vertical-align: top;\n",
       "    }\n",
       "\n",
       "    .dataframe thead th {\n",
       "        text-align: right;\n",
       "    }\n",
       "</style>\n",
       "<table border=\"1\" class=\"dataframe\">\n",
       "  <thead>\n",
       "    <tr style=\"text-align: right;\">\n",
       "      <th></th>\n",
       "      <th>school</th>\n",
       "      <th>sat_scores</th>\n",
       "      <th>low_score</th>\n",
       "      <th>high_score</th>\n",
       "    </tr>\n",
       "  </thead>\n",
       "  <tbody>\n",
       "    <tr>\n",
       "      <th>0</th>\n",
       "      <td>Stanford University</td>\n",
       "      <td>1440-1570</td>\n",
       "      <td>1440</td>\n",
       "      <td>1570</td>\n",
       "    </tr>\n",
       "    <tr>\n",
       "      <th>1</th>\n",
       "      <td>Harvard College</td>\n",
       "      <td>1460-1580</td>\n",
       "      <td>1460</td>\n",
       "      <td>1580</td>\n",
       "    </tr>\n",
       "    <tr>\n",
       "      <th>2</th>\n",
       "      <td>Princeton University</td>\n",
       "      <td>1440-1570</td>\n",
       "      <td>1440</td>\n",
       "      <td>1570</td>\n",
       "    </tr>\n",
       "    <tr>\n",
       "      <th>3</th>\n",
       "      <td>Columbia University</td>\n",
       "      <td>1450-1560</td>\n",
       "      <td>1450</td>\n",
       "      <td>1560</td>\n",
       "    </tr>\n",
       "    <tr>\n",
       "      <th>4</th>\n",
       "      <td>Yale University</td>\n",
       "      <td>1460-1570</td>\n",
       "      <td>1460</td>\n",
       "      <td>1570</td>\n",
       "    </tr>\n",
       "  </tbody>\n",
       "</table>\n",
       "</div>"
      ],
      "text/plain": [
       "                 school sat_scores low_score high_score\n",
       "0   Stanford University  1440-1570      1440       1570\n",
       "1       Harvard College  1460-1580      1460       1580\n",
       "2  Princeton University  1440-1570      1440       1570\n",
       "3   Columbia University  1450-1560      1450       1560\n",
       "4       Yale University  1460-1570      1460       1570"
      ]
     },
     "execution_count": 83,
     "metadata": {},
     "output_type": "execute_result"
    }
   ],
   "source": [
    "# Split SAT range into separate columns\n",
    "sat_by_college[['low_score', 'high_score']] = sat_by_college['sat_scores'].str.split(pat = '-', expand = True)\n",
    "\n",
    "# Check Data types and for correct columns\n",
    "print(sat_by_college.dtypes)\n",
    "sat_by_college.head()"
   ]
  },
  {
   "cell_type": "code",
   "execution_count": 84,
   "metadata": {},
   "outputs": [
    {
     "data": {
      "text/plain": [
       "array(['1440', '1460', '1450', '1530', '1500', '1490', '1470', '1400',\n",
       "       '1290', '1360', '1350', '1370', '1300', '1390', '1330', '1340',\n",
       "       '1180', '1280', '1260', '1320', '1250', '1240', '1220', '1150'],\n",
       "      dtype=object)"
      ]
     },
     "execution_count": 84,
     "metadata": {},
     "output_type": "execute_result"
    }
   ],
   "source": [
    "sat_by_college['low_score'].unique()"
   ]
  },
  {
   "cell_type": "code",
   "execution_count": 85,
   "metadata": {},
   "outputs": [
    {
     "data": {
      "text/plain": [
       "array(['1570', '1580', '1560', '1550', '1510', '1520', '1530', '1540',\n",
       "       '1500', '1490', '1440', '1420', '1460', '1470', '1450', '1410',\n",
       "       '1480'], dtype=object)"
      ]
     },
     "execution_count": 85,
     "metadata": {},
     "output_type": "execute_result"
    }
   ],
   "source": [
    "sat_by_college['high_score'].unique()"
   ]
  },
  {
   "cell_type": "code",
   "execution_count": 86,
   "metadata": {},
   "outputs": [
    {
     "data": {
      "text/html": [
       "<div>\n",
       "<style scoped>\n",
       "    .dataframe tbody tr th:only-of-type {\n",
       "        vertical-align: middle;\n",
       "    }\n",
       "\n",
       "    .dataframe tbody tr th {\n",
       "        vertical-align: top;\n",
       "    }\n",
       "\n",
       "    .dataframe thead th {\n",
       "        text-align: right;\n",
       "    }\n",
       "</style>\n",
       "<table border=\"1\" class=\"dataframe\">\n",
       "  <thead>\n",
       "    <tr style=\"text-align: right;\">\n",
       "      <th></th>\n",
       "      <th>school</th>\n",
       "      <th>low_score</th>\n",
       "      <th>high_score</th>\n",
       "    </tr>\n",
       "  </thead>\n",
       "  <tbody>\n",
       "    <tr>\n",
       "      <th>0</th>\n",
       "      <td>Stanford University</td>\n",
       "      <td>1440</td>\n",
       "      <td>1570</td>\n",
       "    </tr>\n",
       "    <tr>\n",
       "      <th>1</th>\n",
       "      <td>Harvard College</td>\n",
       "      <td>1460</td>\n",
       "      <td>1580</td>\n",
       "    </tr>\n",
       "    <tr>\n",
       "      <th>2</th>\n",
       "      <td>Princeton University</td>\n",
       "      <td>1440</td>\n",
       "      <td>1570</td>\n",
       "    </tr>\n",
       "    <tr>\n",
       "      <th>3</th>\n",
       "      <td>Columbia University</td>\n",
       "      <td>1450</td>\n",
       "      <td>1560</td>\n",
       "    </tr>\n",
       "    <tr>\n",
       "      <th>4</th>\n",
       "      <td>Yale University</td>\n",
       "      <td>1460</td>\n",
       "      <td>1570</td>\n",
       "    </tr>\n",
       "  </tbody>\n",
       "</table>\n",
       "</div>"
      ],
      "text/plain": [
       "                 school low_score high_score\n",
       "0   Stanford University      1440       1570\n",
       "1       Harvard College      1460       1580\n",
       "2  Princeton University      1440       1570\n",
       "3   Columbia University      1450       1560\n",
       "4       Yale University      1460       1570"
      ]
     },
     "execution_count": 86,
     "metadata": {},
     "output_type": "execute_result"
    }
   ],
   "source": [
    "# Drop sat_scores column\n",
    "sat_by_college.drop(columns = ['sat_scores'], inplace = True)\n",
    "sat_by_college.head()"
   ]
  },
  {
   "cell_type": "code",
   "execution_count": 87,
   "metadata": {},
   "outputs": [
    {
     "name": "stdout",
     "output_type": "stream",
     "text": [
      "school         object\n",
      "low_score     float64\n",
      "high_score    float64\n",
      "dtype: object\n"
     ]
    },
    {
     "data": {
      "text/html": [
       "<div>\n",
       "<style scoped>\n",
       "    .dataframe tbody tr th:only-of-type {\n",
       "        vertical-align: middle;\n",
       "    }\n",
       "\n",
       "    .dataframe tbody tr th {\n",
       "        vertical-align: top;\n",
       "    }\n",
       "\n",
       "    .dataframe thead th {\n",
       "        text-align: right;\n",
       "    }\n",
       "</style>\n",
       "<table border=\"1\" class=\"dataframe\">\n",
       "  <thead>\n",
       "    <tr style=\"text-align: right;\">\n",
       "      <th></th>\n",
       "      <th>school</th>\n",
       "      <th>low_score</th>\n",
       "      <th>high_score</th>\n",
       "    </tr>\n",
       "  </thead>\n",
       "  <tbody>\n",
       "    <tr>\n",
       "      <th>0</th>\n",
       "      <td>Stanford University</td>\n",
       "      <td>1440.0</td>\n",
       "      <td>1570.0</td>\n",
       "    </tr>\n",
       "    <tr>\n",
       "      <th>1</th>\n",
       "      <td>Harvard College</td>\n",
       "      <td>1460.0</td>\n",
       "      <td>1580.0</td>\n",
       "    </tr>\n",
       "    <tr>\n",
       "      <th>2</th>\n",
       "      <td>Princeton University</td>\n",
       "      <td>1440.0</td>\n",
       "      <td>1570.0</td>\n",
       "    </tr>\n",
       "    <tr>\n",
       "      <th>3</th>\n",
       "      <td>Columbia University</td>\n",
       "      <td>1450.0</td>\n",
       "      <td>1560.0</td>\n",
       "    </tr>\n",
       "    <tr>\n",
       "      <th>4</th>\n",
       "      <td>Yale University</td>\n",
       "      <td>1460.0</td>\n",
       "      <td>1570.0</td>\n",
       "    </tr>\n",
       "  </tbody>\n",
       "</table>\n",
       "</div>"
      ],
      "text/plain": [
       "                 school  low_score  high_score\n",
       "0   Stanford University     1440.0      1570.0\n",
       "1       Harvard College     1460.0      1580.0\n",
       "2  Princeton University     1440.0      1570.0\n",
       "3   Columbia University     1450.0      1560.0\n",
       "4       Yale University     1460.0      1570.0"
      ]
     },
     "execution_count": 87,
     "metadata": {},
     "output_type": "execute_result"
    }
   ],
   "source": [
    "# Convert string scores to numerical scores using previous to_num() helper function\n",
    "sat_by_college['low_score'] = sat_by_college['low_score'].apply(to_num)\n",
    "sat_by_college['high_score'] = sat_by_college['high_score'].apply(to_num)\n",
    "\n",
    "# Check data types and first 5 rows of data\n",
    "print(sat_by_college.dtypes)\n",
    "sat_by_college.head()"
   ]
  },
  {
   "cell_type": "code",
   "execution_count": 88,
   "metadata": {},
   "outputs": [],
   "source": [
    "# save cleaned SAT College Data to csv\n",
    "sat_by_college.to_csv('../data/sat_by_college_clean.csv', index = False)"
   ]
  },
  {
   "cell_type": "markdown",
   "metadata": {
    "tags": []
   },
   "source": [
    "### Data Dictionary"
   ]
  },
  {
   "cell_type": "markdown",
   "metadata": {
    "tags": []
   },
   "source": [
    "#### SAT By College Data Dictionary\n",
    "|Feature|Type|Dataset|Description|\n",
    "|---|---|---|---|\n",
    "|**school**|*object*|SAT by College|Name of each indiviual school|\n",
    "|**low_score**|*float*|SAT by College|Lowest possible score to be considered for admittance|\n",
    "|**high_score**|*float*|SAT by College|High score to be considered for admittance|\n"
   ]
  },
  {
   "cell_type": "markdown",
   "metadata": {},
   "source": [
    "#### 2019 California High School SAT Data Dictionary\n",
    "\n",
    "|Feature|Type|Dataset|Description|\n",
    "|---|---|---|---|\n",
    "|**school_name**|*object*|2019 California High School SAT Scores|Name of high school|\n",
    "|**district_name**|*object*|2019 California High School SAT Scores|Name of district|\n",
    "|**county_name**|*object*|2019 California High School SAT Scores|Name of county|\n",
    "|**enrollment11**|*float*|2019 California High School SAT Scores|Enrollment of Grade 11|\n",
    "|**num_testtakers11**|*float*|2019 California High School SAT Scores|Number of Test Takers Grade 11|\n",
    "|**num_erwbenchmark11**|*float*|2019 California High School SAT Scores|The number meeting the Evidence-Based Reading & Writing (ERW) benchmark established by the College Board for Grade 11|\n",
    "|**pct_erwbenchmark11**|*float*|2019 California High School SAT Scores|The percent of students who met or exceeded the benchmark for Evidence-Based Reading & Writing (ERW) test for Grade 11|\n",
    "|**num_mathbenchmark11**|*float*|2019 California High School SAT Scores|The number of students who met or exceeded the benchmark for the SAT Math test for Grade 11|\n",
    "|**pct_mathbenchmark11**|*float*|2019 California High School SAT Scores|The percent of students who met or exceeded the benchmark for SAT Math test for Grade 11|\n",
    "|**total_num_bothbenchmark11**|*float*|2019 California High School SAT Scores|The total number of students who met the benchmark of both Evidence-Based Reading & Writing (ERW) and Math Grade 11|\n",
    "|**pct_bothbenchmark11**|*float*|2019 California High School SAT Scores|The percent of students who met the benchmark of both Evidence-Based Reading & Writing (ERW) and Math Grade 11|\n",
    "\n",
    "([*source for California data dictionary descriptions*](https://www.cde.ca.gov/ds/sp/ai/reclayoutsat19.asp))"
   ]
  }
 ],
 "metadata": {
  "anaconda-cloud": {},
  "kernelspec": {
   "display_name": "Python [conda env:dsi] *",
   "language": "python",
   "name": "conda-env-dsi-py"
  },
  "language_info": {
   "codemirror_mode": {
    "name": "ipython",
    "version": 3
   },
   "file_extension": ".py",
   "mimetype": "text/x-python",
   "name": "python",
   "nbconvert_exporter": "python",
   "pygments_lexer": "ipython3",
   "version": "3.8.11"
  }
 },
 "nbformat": 4,
 "nbformat_minor": 4
}
